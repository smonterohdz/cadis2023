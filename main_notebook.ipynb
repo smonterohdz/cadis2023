{
 "cells": [
  {
   "cell_type": "markdown",
   "id": "b92df9c9",
   "metadata": {},
   "source": [
    "# Part III. Tools for Causal Discovery – CaDis 2023"
   ]
  },
  {
   "cell_type": "code",
   "execution_count": null,
   "id": "0ee9feae",
   "metadata": {},
   "outputs": [],
   "source": [
    "# We make sure that we have the necessary packages\n",
    "install.packages(\"BiocManager\")\n",
    "\n",
    "BiocManager::install(\"Rgraphviz\")\n",
    "BiocManager::install(\"graph\")\n",
    "BiocManager::install(\"RBGL\")\n",
    "\n",
    "install.packages(\"fastICA\",dependencies = TRUE)\n",
    "install.packages(\"pcalg\",dependencies = TRUE)"
   ]
  },
  {
   "cell_type": "code",
   "execution_count": null,
   "id": "ca6a2eb8",
   "metadata": {},
   "outputs": [],
   "source": [
    "# then we load them\n",
    "library(pcalg)\n",
    "library(graph)\n",
    "library(Rgraphviz)\n",
    "library(RBGL)\n",
    "set.seed(124)"
   ]
  },
  {
   "cell_type": "markdown",
   "id": "e9f79c22",
   "metadata": {},
   "source": [
    "### Exploring elementary objects"
   ]
  },
  {
   "cell_type": "code",
   "execution_count": null,
   "id": "b61e6f2c",
   "metadata": {},
   "outputs": [],
   "source": [
    "# Loading a data set with binary variables\n",
    "data(gmB)\n",
    "\n",
    "# The gmB was loaded in the workspace and contains two elements\n",
    "\n",
    "# data (200 observations)\n",
    "gmB$x[0:20,]\n",
    "\n",
    "# model represeted by a DAG\n",
    "gmB$g\n",
    "# list of nodes and edges\n",
    "gmB$g@nodes\n",
    "gmB$g@edgeL\n",
    "\n",
    "# plotting the DAG\n",
    "plot(gmB$g)"
   ]
  },
  {
   "cell_type": "code",
   "execution_count": null,
   "id": "6b50fc8e",
   "metadata": {},
   "outputs": [],
   "source": [
    "# more data sets\n",
    "# [B]inary, [D]iscrete, [G]aussian\n",
    "par(mfrow=c(2,2))\n",
    "data(gmD)\n",
    "plot(gmD$g)\n",
    "\n",
    "data(gmG)\n",
    "plot(gmG$g)\n",
    "\n",
    "# visualizing gmG distribution of some variables\n",
    "hist(gmG$x[,1])\n",
    "hist(gmG$x[,2])"
   ]
  },
  {
   "cell_type": "code",
   "execution_count": null,
   "id": "4cfb4d66",
   "metadata": {},
   "outputs": [],
   "source": [
    "# creating a DAG\n",
    "A <- rbind(c(0,1,0,0,1),\n",
    "           c(0,0,0,1,1),\n",
    "           c(1,0,0,1,0),\n",
    "           c(1,0,0,0,1),\n",
    "           c(0,0,0,0,0))\n",
    "\n",
    "gA <- getGraph(A)\n",
    "par(mfrow=c(1,2))\n",
    "plot(gA,main=\"Graph from AM\")\n",
    "\n",
    "## Working with simulated data\n",
    "# generating a random DAG\n",
    "myDAG1 <- randomDAG(n = 6, prob= 0.5, lB = 0.1, uB = 1)\n",
    "myDAG2 <- randDAG(6,3)\n",
    "par(mfrow=c(1,2))\n",
    "plot(myDAG1,main=\"randomDAG\")\n",
    "plot(myDAG2,main=\"randDAG\")\n"
   ]
  },
  {
   "cell_type": "code",
   "execution_count": null,
   "id": "e610fb3b",
   "metadata": {},
   "outputs": [],
   "source": [
    "# listing edges\n",
    "myDAG1@edgeL\n",
    "myDAG2@edgeL\n",
    "\n",
    "# myDAG2 is not topologically ordering, then we can use 'tsort()'\n",
    "tsort(myDAG2)"
   ]
  },
  {
   "cell_type": "code",
   "execution_count": null,
   "id": "f2b6ecd1",
   "metadata": {},
   "outputs": [],
   "source": [
    "# For now, we will use a DAG generate via randomDAG (topol. ordered)\n",
    "par(mfrow=c(1,2))\n",
    "\n",
    "p <- 8\n",
    "pconn <- 0.25\n",
    "myDAG1 <- randomDAG(p, prob = pconn, lB=0.1, uB=1)\n",
    "\n",
    "plot(myDAG1, main = \"randomDAG\")\n"
   ]
  },
  {
   "cell_type": "markdown",
   "id": "381379cf",
   "metadata": {},
   "source": [
    "### Estimate (Initial) Skeleton of a DAG"
   ]
  },
  {
   "cell_type": "code",
   "execution_count": null,
   "id": "00084844",
   "metadata": {},
   "outputs": [],
   "source": [
    "## Using Gaussian data\n",
    "data(gmG)\n",
    "n <- nrow (gmG8$x)\n",
    "V <- colnames(gmG8$x) # labels aka node names\n",
    "# estimate Skeleton\n",
    "print(V)\n",
    "skel.fit <- skeleton(suffStat = list(C = cor(gmG8$x), n = n),\n",
    "                     indepTest = gaussCItest, ## (partial correlations)\n",
    "                     alpha = 0.01, labels = V, verbose = TRUE)\n",
    "\n",
    "# show estimated Skeleton\n",
    "par(mfrow=c(1,2))\n",
    "plot(skel.fit, main = \"Estimated Skeleton\")\n",
    "plot(gmG8$g, main = \"True DAG\")\n"
   ]
  },
  {
   "cell_type": "code",
   "execution_count": null,
   "id": "ec00f955",
   "metadata": {},
   "outputs": [],
   "source": [
    "## Using discrete data\n",
    "data(gmD)\n",
    "V <- colnames(gmD$x) # labels aka node names\n",
    "## define sufficient statistics\n",
    "suffStat <- list(dm = gmD$x, nlev = c(3,2,3,4,2), adaptDF = FALSE)\n",
    "## estimate Skeleton\n",
    "skel.fit <- skeleton(suffStat,\n",
    "                     indepTest = disCItest, ## (G^2 statistics independence test)\n",
    "                     alpha = 0.01, labels = V, verbose = FALSE)\n",
    "## show estimated Skeleton\n",
    "par(mfrow = c(1,2))\n",
    "plot(skel.fit, main = \"Estimated Skeleton\")\n",
    "plot(gmD$g, main = \"True DAG\")\n"
   ]
  },
  {
   "cell_type": "code",
   "execution_count": null,
   "id": "4beefba1",
   "metadata": {},
   "outputs": [],
   "source": [
    "## Using binary data\n",
    "data(gmB)\n",
    "X <- gmB$x\n",
    "## estimate Skeleton\n",
    "skel.fm2 <- skeleton(suffStat = list(dm = X, adaptDF = FALSE),\n",
    "                     indepTest = binCItest, alpha = 0.01,\n",
    "                     labels = colnames(X), verbose = FALSE)\n",
    "\n",
    "## show estimated Skeleton\n",
    "par(mfrow = c(1,2))\n",
    "plot(skel.fm2, main = \"Estimated Skeleton\")\n",
    "plot(gmB$g, main = \"True DAG\")"
   ]
  },
  {
   "cell_type": "code",
   "execution_count": null,
   "id": "2321af50",
   "metadata": {},
   "outputs": [],
   "source": [
    "## Using simulated data\n",
    "# Generating a DAG with node degrees >= 1\n",
    "p <- 6\n",
    "pconn <- 0.3\n",
    "zerodegFlag <- TRUE\n",
    "\n",
    "while (zerodegFlag ) {\n",
    "  ## true DAG\n",
    "  myDAG1 <- randomDAG(p, prob = pconn) \n",
    "  am <- (as(myDAG1,\"matrix\")!=0)*1L\n",
    "  \n",
    "  if (any(colSums(am + t(am)) == 0)) {\n",
    "    zerodegFlag = TRUE\n",
    "    next\n",
    "  } else{\n",
    "    zerodegFlag = FALSE\n",
    "  }\n",
    "}\n",
    "plot(myDAG1, main = \"randomDAG\")"
   ]
  },
  {
   "cell_type": "code",
   "execution_count": null,
   "id": "730e83bd",
   "metadata": {},
   "outputs": [],
   "source": [
    "# Generating 1000 observations from myDAG1 using standard normal error distribution\n",
    "d.normMat10000 <- rmvDAG(10000, myDAG1, errDist=\"normal\")\n",
    "d.normMat1000 <- rmvDAG(1000, myDAG1, errDist=\"normal\")\n",
    "d.normMat500 <- rmvDAG(500, myDAG1, errDist=\"normal\")\n",
    "\n",
    "\n",
    "# Visualizing the distribution of the first four variables\n",
    "par(mfrow=c(2,2))\n",
    "for (i in 1:4){\n",
    "  hist(d.normMat[,i])  \n",
    "}\n",
    "\n",
    "n <- nrow (d.normMat1000)\n",
    "V <- colnames(d.normMat1000) # labels aka node names\n",
    "\n",
    "skel.fit <- skeleton(suffStat = list(C = cor(d.normMat1000), n = n),\n",
    "                     indepTest = gaussCItest, ## (partial correlations)\n",
    "                     alpha = 0.01, labels = V, verbose = FALSE)\n",
    "# show estimated Skeleton\n",
    "par(mfrow=c(1,2))\n",
    "plot(skel.fit, main = \"Estimated Skeleton (1000)\")\n",
    "plot(myDAG1, main = \"True DAG\")"
   ]
  },
  {
   "cell_type": "markdown",
   "id": "a9a6beea",
   "metadata": {},
   "source": [
    "### PC Algorithm"
   ]
  },
  {
   "cell_type": "code",
   "execution_count": null,
   "id": "6d745cef",
   "metadata": {},
   "outputs": [],
   "source": [
    "## PC\n",
    "## Using Gaussian Data\n",
    "n <- nrow (gmG8$ x)\n",
    "V <- colnames(gmG8$ x) \n",
    "## estimate CPDAG\n",
    "pc.fit <- pc(suffStat = list(C = cor(gmG8$x), n = n),\n",
    "             indepTest = gaussCItest, \n",
    "             alpha=0.01, labels = V, verbose = FALSE)\n",
    "\n",
    "## show estimated CPDAG\n",
    "par(mfrow=c(1,2))\n",
    "plot(pc.fit, main = \"Estimated CPDAG\")\n",
    "plot(gmG8$g, main = \"True DAG\")\n",
    "\n"
   ]
  },
  {
   "cell_type": "code",
   "execution_count": null,
   "id": "391fce35",
   "metadata": {},
   "outputs": [],
   "source": [
    "## Using simulated data\n",
    "n <- nrow (d.normMat500)\n",
    "V <- colnames(d.normMat500) \n",
    "\n",
    "pc.fit500 <- pc(suffStat = list(C = cor(d.normMat500), n = n),\n",
    "             indepTest = gaussCItest, \n",
    "             alpha=0.01, labels = V, verbose = FALSE)\n",
    "\n",
    "n <- nrow (d.normMat10000)\n",
    "V <- colnames(d.normMat1000) \n",
    "\n",
    "pc.fit10000 <- pc(suffStat = list(C = cor(d.normMat10000), n = n),\n",
    "             indepTest = gaussCItest, \n",
    "             alpha=0.01, labels = V, verbose = FALSE)\n",
    "\n",
    "# show estimated CPDAG\n",
    "par(mfrow=c(1,3))\n",
    "plot(myDAG1, main = \"True DAG\")\n",
    "plot(pc.fit500, main = \"CPDAG(500)\")\n",
    "plot(pc.fit10000, main = \"CPDAG(10,000)\")\n"
   ]
  },
  {
   "cell_type": "markdown",
   "id": "259145b4",
   "metadata": {},
   "source": [
    "### FCI and RFCI"
   ]
  },
  {
   "cell_type": "code",
   "execution_count": null,
   "id": "a749866a",
   "metadata": {},
   "outputs": [],
   "source": [
    "## FCI\n",
    "data(\"gmL\")\n",
    "\n",
    "# visualizing the first 6 rows in the data set\n",
    "# dimension of the data set (rows=observations, cols=Variables)\n",
    "head(gmL$x)\n",
    "\n",
    "# Number of nodes and edges in the true Model\n",
    "gmL$g\n",
    "\n",
    "suffStat1 <- list(C = cor(gmL$x), n = nrow(gmL$x))\n",
    "pag.est <- fci(suffStat1, indepTest = gaussCItest, \n",
    "               p = ncol(gmL$x), alpha = 0.01, \n",
    "               labels = as.character(2:5))\n",
    "\n",
    "par(mfrow = c(1, 2))\n",
    "plot(pag.est)\n",
    "mtext(\"FCI\",side=3)\n",
    "plot(gmL$g, main = \"True Model\")\n"
   ]
  },
  {
   "cell_type": "code",
   "execution_count": null,
   "id": "a611f6ed",
   "metadata": {},
   "outputs": [],
   "source": [
    "## RFCI\n",
    "# same data set gML\n",
    "\n",
    "suffStat1 <- list(C = cor(gmL$x), n = nrow(gmL$x))\n",
    "\n",
    "pagrfci.est <- rfci(suffStat1, indepTest = gaussCItest, \n",
    "                p = ncol(gmL$x),alpha = 0.01, \n",
    "                labels = as.character(2:5))\n",
    "\n",
    "par(mfrow = c(1, 3))\n",
    "plot(pagfci.est)\n",
    "mtext(\"FCI\",side=3)\n",
    "plot(pagrfci.est)\n",
    "mtext('RFCI',side=3)\n",
    "plot(gmL$g, main = \"True Model\")\n"
   ]
  },
  {
   "cell_type": "markdown",
   "id": "1eccd9f1",
   "metadata": {},
   "source": [
    "### Comparing graphs via Structural Hamming Distance"
   ]
  },
  {
   "cell_type": "code",
   "execution_count": null,
   "id": "b0ec9a41",
   "metadata": {},
   "outputs": [],
   "source": [
    "## Creating a graph from an adjacency matrix\n",
    "Am <- rbind(c(0,1,0,0,1),\n",
    "           c(0,0,0,1,1),\n",
    "           c(1,0,0,1,0),\n",
    "           c(1,0,0,0,1),\n",
    "           c(0,0,0,0,0))\n",
    "\n",
    "# shd() function needs the graphs as a graphNEL object\n",
    "A <- as(getGraph(Am),\"graphNEL\")\n",
    "\n",
    "# We remove the 3 -> 4 link in A and create the graph A1\n",
    "A1 <- removeEdge(from=\"3\",to=\"4\",A)\n",
    "\n",
    "# We remove the 4 -> 1 link in A1 and create the graph A2\n",
    "A2 <- removeEdge(from=\"4\",to=\"1\",A1)\n",
    "\n",
    "\n",
    "par(mfrow =c(1,3))\n",
    "plot(A, main=\"A\")\n",
    "plot(A1, main=\"A1\")\n",
    "plot(A2, main=\"A2\")\n",
    "\n",
    "# computing and printing the distance values\n",
    "shdAA <- shd(A,A)\n",
    "shdAA1 <- shd(A,A1)\n",
    "shdAA2 <- shd(A,A2)\n",
    "\n",
    "print(shdAA)\n",
    "print(shdAA1)\n",
    "print(shdAA2)"
   ]
  },
  {
   "cell_type": "code",
   "execution_count": null,
   "id": "23213bcc",
   "metadata": {},
   "outputs": [],
   "source": []
  },
  {
   "cell_type": "code",
   "execution_count": null,
   "id": "ba8c3455",
   "metadata": {},
   "outputs": [],
   "source": [
    "sessionInfo()"
   ]
  }
 ],
 "metadata": {
  "kernelspec": {
   "display_name": "R",
   "language": "R",
   "name": "ir"
  },
  "language_info": {
   "codemirror_mode": "r",
   "file_extension": ".r",
   "mimetype": "text/x-r-source",
   "name": "R",
   "pygments_lexer": "r",
   "version": "3.6.1"
  }
 },
 "nbformat": 4,
 "nbformat_minor": 5
}
